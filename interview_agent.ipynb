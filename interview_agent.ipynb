{
 "cells": [
  {
   "cell_type": "markdown",
   "id": "ca976303",
   "metadata": {},
   "source": [
    "# 🎯 Interview Trainer Agent with IBM Granite & Watsonx\n",
    "This notebook builds an AI-powered Interview Prep Assistant using IBM Watsonx and Granite models. It supports resume parsing, role-specific question generation, and integration with IBM Cloud Lite services."
   ]
  },
  {
   "cell_type": "markdown",
   "id": "35e97524",
   "metadata": {},
   "source": [
    "### 🔐 Watsonx Connection"
   ]
  },
  {
   "cell_type": "code",
   "execution_count": null,
   "id": "e829ae0a",
   "metadata": {},
   "outputs": [],
   "source": [
    "import os\n",
    "from ibm_watsonx_ai import APIClient, Credentials\n",
    "import getpass\n",
    "\n",
    "credentials = Credentials(\n",
    "    url=\"https://us-south.ml.cloud.ibm.com\",\n",
    "    api_key=getpass.getpass(\"Please enter your api key: \")\n",
    ")\n",
    "client = APIClient(credentials)"
   ]
  },
  {
   "cell_type": "code",
   "execution_count": null,
   "id": "d2451353",
   "metadata": {},
   "outputs": [],
   "source": [
    "# Set your space ID from Watsonx cloud project\n",
    "space_id = \"your-space-id-here\"\n",
    "client.set.default_space(space_id)"
   ]
  },
  {
   "cell_type": "markdown",
   "id": "64a65e2e",
   "metadata": {},
   "source": [
    "### 📄 Resume Parser"
   ]
  },
  {
   "cell_type": "code",
   "execution_count": null,
   "id": "64493e41",
   "metadata": {},
   "outputs": [],
   "source": [
    "import pdfplumber\n",
    "\n",
    "def extract_text_from_pdf(pdf_path):\n",
    "    with pdfplumber.open(pdf_path) as pdf:\n",
    "        return '\\n'.join([page.extract_text() for page in pdf if page.extract_text()])\n",
    "\n",
    "# Example usage:\n",
    "# resume_text = extract_text_from_pdf(\"resume.pdf\")\n",
    "# print(resume_text)"
   ]
  },
  {
   "cell_type": "markdown",
   "id": "15236164",
   "metadata": {},
   "source": [
    "### 🧠 RAG Setup with FAISS"
   ]
  },
  {
   "cell_type": "code",
   "execution_count": null,
   "id": "b3f24cf4",
   "metadata": {},
   "outputs": [],
   "source": [
    "from sentence_transformers import SentenceTransformer\n",
    "import faiss\n",
    "\n",
    "model = SentenceTransformer('all-MiniLM-L6-v2')\n",
    "\n",
    "# Sample questions\n",
    "corpus = [\n",
    "    'What are your strengths?',\n",
    "    'Tell me about yourself.',\n",
    "    'Describe a team challenge you handled.',\n",
    "    'Why do you want this job?',\n",
    "    'Where do you see yourself in 5 years?'\n",
    "]\n",
    "\n",
    "embeddings = model.encode(corpus)\n",
    "index = faiss.IndexFlatL2(embeddings.shape[1])\n",
    "index.add(embeddings)"
   ]
  },
  {
   "cell_type": "markdown",
   "id": "05aea9de",
   "metadata": {},
   "source": [
    "### 🤖 Retrieval & AI Response"
   ]
  },
  {
   "cell_type": "code",
   "execution_count": null,
   "id": "dbac9909",
   "metadata": {},
   "outputs": [],
   "source": [
    "def retrieve_question(user_input):\n",
    "    query_vector = model.encode([user_input])\n",
    "    D, I = index.search(query_vector, k=2)\n",
    "    return [corpus[i] for i in I[0]]\n",
    "\n",
    "# print(retrieve_question('Describe a workplace challenge'))"
   ]
  },
  {
   "cell_type": "code",
   "execution_count": null,
   "id": "d56fc6b9",
   "metadata": {},
   "outputs": [],
   "source": [
    "# Placeholder Granite response function\n",
    "def generate_answer(question):\n",
    "    return f'Model answer for: {question}'\n",
    "\n",
    "# print(generate_answer('Tell me about yourself.'))"
   ]
  },
  {
   "cell_type": "markdown",
   "id": "17a70f59",
   "metadata": {},
   "source": [
    "### 🧬 IBM AI Service Function"
   ]
  },
  {
   "cell_type": "code",
   "execution_count": null,
   "id": "5a0d6cbd",
   "metadata": {},
   "outputs": [],
   "source": [
    "params = {\"space_id\": space_id}\n",
    "\n",
    "def gen_ai_service(context, params=params, **custom):\n",
    "    from langchain_ibm import ChatWatsonx\n",
    "    from ibm_watsonx_ai import APIClient\n",
    "\n",
    "    question = custom.get('input', 'Tell me about yourself.')\n",
    "    llm = ChatWatsonx(model=\"granite-13b-chat-v2\", credentials=credentials)\n",
    "    return llm.invoke(question)\n",
    "\n",
    "# Example (for deployment use):\n",
    "# gen_ai_service(None, input='Describe your leadership style.')"
   ]
  }
 ],
 "metadata": {
  "kernelspec": {
   "display_name": "Python 3",
   "name": "python3"
  },
  "language_info": {
   "name": "python",
   "version": "3.10"
  }
 },
 "nbformat": 4,
 "nbformat_minor": 5
}
